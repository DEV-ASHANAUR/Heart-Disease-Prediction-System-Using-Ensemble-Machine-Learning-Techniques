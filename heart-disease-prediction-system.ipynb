{
 "cells": [
  {
   "cell_type": "code",
   "execution_count": 1,
   "id": "36c6d113",
   "metadata": {
    "_cell_guid": "b1076dfc-b9ad-4769-8c92-a6c4dae69d19",
    "_uuid": "8f2839f25d086af736a60e9eeb907d3b93b6e0e5",
    "execution": {
     "iopub.execute_input": "2024-12-19T15:05:29.429358Z",
     "iopub.status.busy": "2024-12-19T15:05:29.428820Z",
     "iopub.status.idle": "2024-12-19T15:05:30.594378Z",
     "shell.execute_reply": "2024-12-19T15:05:30.593278Z"
    },
    "papermill": {
     "duration": 1.179109,
     "end_time": "2024-12-19T15:05:30.597019",
     "exception": false,
     "start_time": "2024-12-19T15:05:29.417910",
     "status": "completed"
    },
    "tags": []
   },
   "outputs": [
    {
     "data": {
      "text/html": [
       "<div>\n",
       "<style scoped>\n",
       "    .dataframe tbody tr th:only-of-type {\n",
       "        vertical-align: middle;\n",
       "    }\n",
       "\n",
       "    .dataframe tbody tr th {\n",
       "        vertical-align: top;\n",
       "    }\n",
       "\n",
       "    .dataframe thead th {\n",
       "        text-align: right;\n",
       "    }\n",
       "</style>\n",
       "<table border=\"1\" class=\"dataframe\">\n",
       "  <thead>\n",
       "    <tr style=\"text-align: right;\">\n",
       "      <th></th>\n",
       "      <th>id</th>\n",
       "      <th>age</th>\n",
       "      <th>sex</th>\n",
       "      <th>dataset</th>\n",
       "      <th>cp</th>\n",
       "      <th>trestbps</th>\n",
       "      <th>chol</th>\n",
       "      <th>fbs</th>\n",
       "      <th>restecg</th>\n",
       "      <th>thalch</th>\n",
       "      <th>exang</th>\n",
       "      <th>oldpeak</th>\n",
       "      <th>slope</th>\n",
       "      <th>ca</th>\n",
       "      <th>thal</th>\n",
       "      <th>num</th>\n",
       "    </tr>\n",
       "  </thead>\n",
       "  <tbody>\n",
       "    <tr>\n",
       "      <th>0</th>\n",
       "      <td>1</td>\n",
       "      <td>63</td>\n",
       "      <td>Male</td>\n",
       "      <td>Cleveland</td>\n",
       "      <td>typical angina</td>\n",
       "      <td>145.0</td>\n",
       "      <td>233.0</td>\n",
       "      <td>True</td>\n",
       "      <td>lv hypertrophy</td>\n",
       "      <td>150.0</td>\n",
       "      <td>False</td>\n",
       "      <td>2.3</td>\n",
       "      <td>downsloping</td>\n",
       "      <td>0.0</td>\n",
       "      <td>fixed defect</td>\n",
       "      <td>0</td>\n",
       "    </tr>\n",
       "    <tr>\n",
       "      <th>1</th>\n",
       "      <td>2</td>\n",
       "      <td>67</td>\n",
       "      <td>Male</td>\n",
       "      <td>Cleveland</td>\n",
       "      <td>asymptomatic</td>\n",
       "      <td>160.0</td>\n",
       "      <td>286.0</td>\n",
       "      <td>False</td>\n",
       "      <td>lv hypertrophy</td>\n",
       "      <td>108.0</td>\n",
       "      <td>True</td>\n",
       "      <td>1.5</td>\n",
       "      <td>flat</td>\n",
       "      <td>3.0</td>\n",
       "      <td>normal</td>\n",
       "      <td>2</td>\n",
       "    </tr>\n",
       "    <tr>\n",
       "      <th>2</th>\n",
       "      <td>3</td>\n",
       "      <td>67</td>\n",
       "      <td>Male</td>\n",
       "      <td>Cleveland</td>\n",
       "      <td>asymptomatic</td>\n",
       "      <td>120.0</td>\n",
       "      <td>229.0</td>\n",
       "      <td>False</td>\n",
       "      <td>lv hypertrophy</td>\n",
       "      <td>129.0</td>\n",
       "      <td>True</td>\n",
       "      <td>2.6</td>\n",
       "      <td>flat</td>\n",
       "      <td>2.0</td>\n",
       "      <td>reversable defect</td>\n",
       "      <td>1</td>\n",
       "    </tr>\n",
       "    <tr>\n",
       "      <th>3</th>\n",
       "      <td>4</td>\n",
       "      <td>37</td>\n",
       "      <td>Male</td>\n",
       "      <td>Cleveland</td>\n",
       "      <td>non-anginal</td>\n",
       "      <td>130.0</td>\n",
       "      <td>250.0</td>\n",
       "      <td>False</td>\n",
       "      <td>normal</td>\n",
       "      <td>187.0</td>\n",
       "      <td>False</td>\n",
       "      <td>3.5</td>\n",
       "      <td>downsloping</td>\n",
       "      <td>0.0</td>\n",
       "      <td>normal</td>\n",
       "      <td>0</td>\n",
       "    </tr>\n",
       "    <tr>\n",
       "      <th>4</th>\n",
       "      <td>5</td>\n",
       "      <td>41</td>\n",
       "      <td>Female</td>\n",
       "      <td>Cleveland</td>\n",
       "      <td>atypical angina</td>\n",
       "      <td>130.0</td>\n",
       "      <td>204.0</td>\n",
       "      <td>False</td>\n",
       "      <td>lv hypertrophy</td>\n",
       "      <td>172.0</td>\n",
       "      <td>False</td>\n",
       "      <td>1.4</td>\n",
       "      <td>upsloping</td>\n",
       "      <td>0.0</td>\n",
       "      <td>normal</td>\n",
       "      <td>0</td>\n",
       "    </tr>\n",
       "  </tbody>\n",
       "</table>\n",
       "</div>"
      ],
      "text/plain": [
       "   id  age     sex    dataset               cp  trestbps   chol    fbs  \\\n",
       "0   1   63    Male  Cleveland   typical angina     145.0  233.0   True   \n",
       "1   2   67    Male  Cleveland     asymptomatic     160.0  286.0  False   \n",
       "2   3   67    Male  Cleveland     asymptomatic     120.0  229.0  False   \n",
       "3   4   37    Male  Cleveland      non-anginal     130.0  250.0  False   \n",
       "4   5   41  Female  Cleveland  atypical angina     130.0  204.0  False   \n",
       "\n",
       "          restecg  thalch  exang  oldpeak        slope   ca  \\\n",
       "0  lv hypertrophy   150.0  False      2.3  downsloping  0.0   \n",
       "1  lv hypertrophy   108.0   True      1.5         flat  3.0   \n",
       "2  lv hypertrophy   129.0   True      2.6         flat  2.0   \n",
       "3          normal   187.0  False      3.5  downsloping  0.0   \n",
       "4  lv hypertrophy   172.0  False      1.4    upsloping  0.0   \n",
       "\n",
       "                thal  num  \n",
       "0       fixed defect    0  \n",
       "1             normal    2  \n",
       "2  reversable defect    1  \n",
       "3             normal    0  \n",
       "4             normal    0  "
      ]
     },
     "execution_count": 1,
     "metadata": {},
     "output_type": "execute_result"
    }
   ],
   "source": [
    "import pandas as pd\n",
    "data = pd.read_csv(\"/kaggle/input/heart-disease-data/heart_disease_uci.csv\")\n",
    "data.head()"
   ]
  },
  {
   "cell_type": "code",
   "execution_count": 2,
   "id": "ae3a3c1b",
   "metadata": {
    "execution": {
     "iopub.execute_input": "2024-12-19T15:05:30.617368Z",
     "iopub.status.busy": "2024-12-19T15:05:30.616388Z",
     "iopub.status.idle": "2024-12-19T15:05:30.629658Z",
     "shell.execute_reply": "2024-12-19T15:05:30.628529Z"
    },
    "papermill": {
     "duration": 0.025939,
     "end_time": "2024-12-19T15:05:30.632161",
     "exception": false,
     "start_time": "2024-12-19T15:05:30.606222",
     "status": "completed"
    },
    "tags": []
   },
   "outputs": [
    {
     "data": {
      "text/plain": [
       "id            0\n",
       "age           0\n",
       "sex           0\n",
       "dataset       0\n",
       "cp            0\n",
       "trestbps     59\n",
       "chol         30\n",
       "fbs          90\n",
       "restecg       2\n",
       "thalch       55\n",
       "exang        55\n",
       "oldpeak      62\n",
       "slope       309\n",
       "ca          611\n",
       "thal        486\n",
       "num           0\n",
       "dtype: int64"
      ]
     },
     "execution_count": 2,
     "metadata": {},
     "output_type": "execute_result"
    }
   ],
   "source": [
    "data.isnull().sum()"
   ]
  },
  {
   "cell_type": "code",
   "execution_count": 3,
   "id": "5c63d37f",
   "metadata": {
    "execution": {
     "iopub.execute_input": "2024-12-19T15:05:30.651383Z",
     "iopub.status.busy": "2024-12-19T15:05:30.651002Z",
     "iopub.status.idle": "2024-12-19T15:05:30.679259Z",
     "shell.execute_reply": "2024-12-19T15:05:30.677879Z"
    },
    "papermill": {
     "duration": 0.041087,
     "end_time": "2024-12-19T15:05:30.681649",
     "exception": false,
     "start_time": "2024-12-19T15:05:30.640562",
     "status": "completed"
    },
    "tags": []
   },
   "outputs": [
    {
     "name": "stderr",
     "output_type": "stream",
     "text": [
      "/tmp/ipykernel_17/3267025356.py:5: FutureWarning: Downcasting object dtype arrays on .fillna, .ffill, .bfill is deprecated and will change in a future version. Call result.infer_objects(copy=False) instead. To opt-in to the future behavior, set `pd.set_option('future.no_silent_downcasting', True)`\n",
      "  data['fbs'] = data['fbs'].fillna(data['fbs'].mode()[0]).astype(int, copy=False)  # Avoid downcasting warning\n",
      "/tmp/ipykernel_17/3267025356.py:12: FutureWarning: Downcasting object dtype arrays on .fillna, .ffill, .bfill is deprecated and will change in a future version. Call result.infer_objects(copy=False) instead. To opt-in to the future behavior, set `pd.set_option('future.no_silent_downcasting', True)`\n",
      "  data['exang'] = data['exang'].fillna(data['exang'].mode()[0]).astype(int, copy=False)  # Avoid downcasting warning\n"
     ]
    }
   ],
   "source": [
    "# Fill missing values with appropriate methods\n",
    "data['trestbps'] = data['trestbps'].fillna(data['trestbps'].mean())\n",
    "data['chol'] = data['chol'].fillna(data['chol'].median())\n",
    "data['restecg'] = data['restecg'].fillna(data['restecg'].mode()[0])\n",
    "data['fbs'] = data['fbs'].fillna(data['fbs'].mode()[0]).astype(int, copy=False)  # Avoid downcasting warning\n",
    "data['thalch'] = data['thalch'].fillna(data['thalch'].median())\n",
    "data['oldpeak'] = data['oldpeak'].fillna(data['oldpeak'].median())\n",
    "\n",
    "data['slope'] = data['slope'].fillna(data['slope'].mode()[0])\n",
    "data['ca'] = data['ca'].fillna(data['ca'].mode()[0])\n",
    "data['thal'] = data['thal'].fillna(data['thal'].mode()[0])\n",
    "data['exang'] = data['exang'].fillna(data['exang'].mode()[0]).astype(int, copy=False)  # Avoid downcasting warning\n"
   ]
  },
  {
   "cell_type": "code",
   "execution_count": 4,
   "id": "2cccd175",
   "metadata": {
    "execution": {
     "iopub.execute_input": "2024-12-19T15:05:30.700271Z",
     "iopub.status.busy": "2024-12-19T15:05:30.699837Z",
     "iopub.status.idle": "2024-12-19T15:05:30.710855Z",
     "shell.execute_reply": "2024-12-19T15:05:30.709393Z"
    },
    "papermill": {
     "duration": 0.023289,
     "end_time": "2024-12-19T15:05:30.713415",
     "exception": false,
     "start_time": "2024-12-19T15:05:30.690126",
     "status": "completed"
    },
    "tags": []
   },
   "outputs": [
    {
     "data": {
      "text/plain": [
       "id          0\n",
       "age         0\n",
       "sex         0\n",
       "dataset     0\n",
       "cp          0\n",
       "trestbps    0\n",
       "chol        0\n",
       "fbs         0\n",
       "restecg     0\n",
       "thalch      0\n",
       "exang       0\n",
       "oldpeak     0\n",
       "slope       0\n",
       "ca          0\n",
       "thal        0\n",
       "num         0\n",
       "dtype: int64"
      ]
     },
     "execution_count": 4,
     "metadata": {},
     "output_type": "execute_result"
    }
   ],
   "source": [
    "data.isnull().sum()"
   ]
  },
  {
   "cell_type": "code",
   "execution_count": 5,
   "id": "524602ff",
   "metadata": {
    "execution": {
     "iopub.execute_input": "2024-12-19T15:05:30.732465Z",
     "iopub.status.busy": "2024-12-19T15:05:30.732083Z",
     "iopub.status.idle": "2024-12-19T15:05:32.512873Z",
     "shell.execute_reply": "2024-12-19T15:05:32.511614Z"
    },
    "papermill": {
     "duration": 1.793407,
     "end_time": "2024-12-19T15:05:32.515625",
     "exception": false,
     "start_time": "2024-12-19T15:05:30.722218",
     "status": "completed"
    },
    "tags": []
   },
   "outputs": [
    {
     "name": "stdout",
     "output_type": "stream",
     "text": [
      "   id  age  sex  dataset  cp  trestbps   chol  fbs  restecg  thalch  exang  \\\n",
      "0   1   63    1        0   3     145.0  233.0    1        0   150.0      0   \n",
      "1   2   67    1        0   0     160.0  286.0    0        0   108.0      1   \n",
      "2   3   67    1        0   0     120.0  229.0    0        0   129.0      1   \n",
      "3   4   37    1        0   2     130.0  250.0    0        1   187.0      0   \n",
      "4   5   41    0        0   1     130.0  204.0    0        0   172.0      0   \n",
      "\n",
      "   oldpeak  slope  ca  thal  num  \n",
      "0      2.3      0   0     0    0  \n",
      "1      1.5      1   3     1    2  \n",
      "2      2.6      1   2     2    1  \n",
      "3      3.5      0   0     1    0  \n",
      "4      1.4      2   0     1    0  \n"
     ]
    }
   ],
   "source": [
    "from sklearn.preprocessing import LabelEncoder\n",
    "\n",
    "# Create a LabelEncoder instance\n",
    "label_encoder = LabelEncoder()\n",
    "\n",
    "# List of categorical columns to encode\n",
    "categorical_columns = [\n",
    "    'sex', 'dataset', 'cp', 'restecg', 'exang', 'slope', 'ca', 'thal'\n",
    "]\n",
    "\n",
    "# Apply LabelEncoder to each column\n",
    "for column in categorical_columns:\n",
    "    data[column] = label_encoder.fit_transform(data[column])\n",
    "\n",
    "\n",
    "\n",
    "# Display the updated DataFrame\n",
    "print(data.head())"
   ]
  },
  {
   "cell_type": "code",
   "execution_count": 6,
   "id": "1d59709b",
   "metadata": {
    "execution": {
     "iopub.execute_input": "2024-12-19T15:05:32.535102Z",
     "iopub.status.busy": "2024-12-19T15:05:32.534599Z",
     "iopub.status.idle": "2024-12-19T15:05:32.559878Z",
     "shell.execute_reply": "2024-12-19T15:05:32.558717Z"
    },
    "papermill": {
     "duration": 0.03784,
     "end_time": "2024-12-19T15:05:32.562171",
     "exception": false,
     "start_time": "2024-12-19T15:05:32.524331",
     "status": "completed"
    },
    "tags": []
   },
   "outputs": [
    {
     "name": "stdout",
     "output_type": "stream",
     "text": [
      "   id       age  sex  dataset  cp  trestbps      chol  fbs  restecg    thalch  \\\n",
      "0   1  1.007386    1        0   3  0.698041  0.303643    1        0  0.489727   \n",
      "1   2  1.432034    1        0   0  1.511761  0.789967    0        0 -1.181478   \n",
      "2   3  1.432034    1        0   0 -0.658158  0.266939    0        0 -0.345875   \n",
      "3   4 -1.752828    1        0   2 -0.115679  0.459634    0        1  1.961979   \n",
      "4   5 -1.328180    0        0   1 -0.115679  0.037541    0        0  1.365120   \n",
      "\n",
      "   exang   oldpeak  slope  ca  thal  num  \n",
      "0      0  1.368109      0   0     0    0  \n",
      "1      1  0.611589      1   3     1    2  \n",
      "2      1  1.651804      1   2     2    1  \n",
      "3      0  2.502889      0   0     1    0  \n",
      "4      0  0.517024      2   0     1    0  \n"
     ]
    }
   ],
   "source": [
    "from sklearn.preprocessing import StandardScaler\n",
    "standardScaler = StandardScaler()\n",
    "column_to_scale = ['age','trestbps','chol','thalch','oldpeak']\n",
    "data[column_to_scale] = standardScaler.fit_transform(data[column_to_scale])\n",
    "print(data.head())"
   ]
  },
  {
   "cell_type": "code",
   "execution_count": 7,
   "id": "29dc5a71",
   "metadata": {
    "execution": {
     "iopub.execute_input": "2024-12-19T15:05:32.581472Z",
     "iopub.status.busy": "2024-12-19T15:05:32.581105Z",
     "iopub.status.idle": "2024-12-19T15:05:32.592624Z",
     "shell.execute_reply": "2024-12-19T15:05:32.591369Z"
    },
    "papermill": {
     "duration": 0.023966,
     "end_time": "2024-12-19T15:05:32.595099",
     "exception": false,
     "start_time": "2024-12-19T15:05:32.571133",
     "status": "completed"
    },
    "tags": []
   },
   "outputs": [
    {
     "name": "stdout",
     "output_type": "stream",
     "text": [
      "        age  sex  cp  trestbps      chol  fbs  restecg    thalch  exang  \\\n",
      "0  1.007386    1   3  0.698041  0.303643    1        0  0.489727      0   \n",
      "1  1.432034    1   0  1.511761  0.789967    0        0 -1.181478      1   \n",
      "2  1.432034    1   0 -0.658158  0.266939    0        0 -0.345875      1   \n",
      "3 -1.752828    1   2 -0.115679  0.459634    0        1  1.961979      0   \n",
      "4 -1.328180    0   1 -0.115679  0.037541    0        0  1.365120      0   \n",
      "\n",
      "    oldpeak  slope  ca  thal  num  \n",
      "0  1.368109      0   0     0    0  \n",
      "1  0.611589      1   3     1    2  \n",
      "2  1.651804      1   2     2    1  \n",
      "3  2.502889      0   0     1    0  \n",
      "4  0.517024      2   0     1    0  \n"
     ]
    }
   ],
   "source": [
    "data.drop(columns=[\"id\", \"dataset\"], inplace=True)\n",
    "print(data.head())"
   ]
  },
  {
   "cell_type": "code",
   "execution_count": 8,
   "id": "d9c57331",
   "metadata": {
    "execution": {
     "iopub.execute_input": "2024-12-19T15:05:32.614618Z",
     "iopub.status.busy": "2024-12-19T15:05:32.614211Z",
     "iopub.status.idle": "2024-12-19T15:05:32.629694Z",
     "shell.execute_reply": "2024-12-19T15:05:32.628461Z"
    },
    "papermill": {
     "duration": 0.028534,
     "end_time": "2024-12-19T15:05:32.632599",
     "exception": false,
     "start_time": "2024-12-19T15:05:32.604065",
     "status": "completed"
    },
    "tags": []
   },
   "outputs": [
    {
     "name": "stdout",
     "output_type": "stream",
     "text": [
      "num\n",
      "1    509\n",
      "0    411\n",
      "Name: count, dtype: int64\n"
     ]
    }
   ],
   "source": [
    "# Convert 'num' column to binary: 0 = No Heart Disease, 1 = Heart Disease\n",
    "data['num'] = data['num'].apply(lambda x: 0 if x == 0 else 1)\n",
    "\n",
    "print(data['num'].value_counts())"
   ]
  },
  {
   "cell_type": "code",
   "execution_count": 9,
   "id": "eb410466",
   "metadata": {
    "execution": {
     "iopub.execute_input": "2024-12-19T15:05:32.653916Z",
     "iopub.status.busy": "2024-12-19T15:05:32.653523Z",
     "iopub.status.idle": "2024-12-19T15:05:32.660521Z",
     "shell.execute_reply": "2024-12-19T15:05:32.659199Z"
    },
    "papermill": {
     "duration": 0.020553,
     "end_time": "2024-12-19T15:05:32.662828",
     "exception": false,
     "start_time": "2024-12-19T15:05:32.642275",
     "status": "completed"
    },
    "tags": []
   },
   "outputs": [],
   "source": [
    "x=data.drop(columns=['num'])\n",
    "y=data['num']"
   ]
  },
  {
   "cell_type": "code",
   "execution_count": 10,
   "id": "0b14274a",
   "metadata": {
    "execution": {
     "iopub.execute_input": "2024-12-19T15:05:32.682121Z",
     "iopub.status.busy": "2024-12-19T15:05:32.681723Z",
     "iopub.status.idle": "2024-12-19T15:05:32.692402Z",
     "shell.execute_reply": "2024-12-19T15:05:32.691219Z"
    },
    "papermill": {
     "duration": 0.022996,
     "end_time": "2024-12-19T15:05:32.694740",
     "exception": false,
     "start_time": "2024-12-19T15:05:32.671744",
     "status": "completed"
    },
    "tags": []
   },
   "outputs": [
    {
     "name": "stdout",
     "output_type": "stream",
     "text": [
      "        age  sex  cp  trestbps      chol  fbs  restecg    thalch  exang  \\\n",
      "0  1.007386    1   3  0.698041  0.303643    1        0  0.489727      0   \n",
      "1  1.432034    1   0  1.511761  0.789967    0        0 -1.181478      1   \n",
      "2  1.432034    1   0 -0.658158  0.266939    0        0 -0.345875      1   \n",
      "3 -1.752828    1   2 -0.115679  0.459634    0        1  1.961979      0   \n",
      "4 -1.328180    0   1 -0.115679  0.037541    0        0  1.365120      0   \n",
      "\n",
      "    oldpeak  slope  ca  thal  \n",
      "0  1.368109      0   0     0  \n",
      "1  0.611589      1   3     1  \n",
      "2  1.651804      1   2     2  \n",
      "3  2.502889      0   0     1  \n",
      "4  0.517024      2   0     1  \n"
     ]
    }
   ],
   "source": [
    "print(x.head())"
   ]
  },
  {
   "cell_type": "code",
   "execution_count": 11,
   "id": "2cb9252b",
   "metadata": {
    "execution": {
     "iopub.execute_input": "2024-12-19T15:05:32.715419Z",
     "iopub.status.busy": "2024-12-19T15:05:32.714400Z",
     "iopub.status.idle": "2024-12-19T15:05:32.722018Z",
     "shell.execute_reply": "2024-12-19T15:05:32.720717Z"
    },
    "papermill": {
     "duration": 0.020003,
     "end_time": "2024-12-19T15:05:32.724223",
     "exception": false,
     "start_time": "2024-12-19T15:05:32.704220",
     "status": "completed"
    },
    "tags": []
   },
   "outputs": [
    {
     "name": "stdout",
     "output_type": "stream",
     "text": [
      "0     0\n",
      "1     1\n",
      "2     1\n",
      "3     0\n",
      "4     0\n",
      "     ..\n",
      "95    1\n",
      "96    1\n",
      "97    1\n",
      "98    0\n",
      "99    0\n",
      "Name: num, Length: 100, dtype: int64\n"
     ]
    }
   ],
   "source": [
    "print(y.head(100))"
   ]
  },
  {
   "cell_type": "code",
   "execution_count": 12,
   "id": "d5e80da3",
   "metadata": {
    "execution": {
     "iopub.execute_input": "2024-12-19T15:05:32.745225Z",
     "iopub.status.busy": "2024-12-19T15:05:32.744152Z",
     "iopub.status.idle": "2024-12-19T15:05:32.955781Z",
     "shell.execute_reply": "2024-12-19T15:05:32.954564Z"
    },
    "papermill": {
     "duration": 0.224901,
     "end_time": "2024-12-19T15:05:32.958313",
     "exception": false,
     "start_time": "2024-12-19T15:05:32.733412",
     "status": "completed"
    },
    "tags": []
   },
   "outputs": [],
   "source": [
    "from sklearn.model_selection import train_test_split\n",
    "x_train,x_test,y_train, y_test = train_test_split(x,y, test_size=0.2, random_state=42)"
   ]
  },
  {
   "cell_type": "code",
   "execution_count": 13,
   "id": "714f3d55",
   "metadata": {
    "execution": {
     "iopub.execute_input": "2024-12-19T15:05:32.978160Z",
     "iopub.status.busy": "2024-12-19T15:05:32.977737Z",
     "iopub.status.idle": "2024-12-19T15:05:32.985269Z",
     "shell.execute_reply": "2024-12-19T15:05:32.984020Z"
    },
    "papermill": {
     "duration": 0.020263,
     "end_time": "2024-12-19T15:05:32.987742",
     "exception": false,
     "start_time": "2024-12-19T15:05:32.967479",
     "status": "completed"
    },
    "tags": []
   },
   "outputs": [
    {
     "name": "stdout",
     "output_type": "stream",
     "text": [
      "num\n",
      "1    400\n",
      "0    336\n",
      "Name: count, dtype: int64\n"
     ]
    }
   ],
   "source": [
    "counts=y_train.value_counts()\n",
    "print(counts)"
   ]
  },
  {
   "cell_type": "code",
   "execution_count": null,
   "id": "617731d8",
   "metadata": {
    "papermill": {
     "duration": 0.008596,
     "end_time": "2024-12-19T15:05:33.005610",
     "exception": false,
     "start_time": "2024-12-19T15:05:32.997014",
     "status": "completed"
    },
    "tags": []
   },
   "outputs": [],
   "source": []
  },
  {
   "cell_type": "code",
   "execution_count": 14,
   "id": "0375acce",
   "metadata": {
    "execution": {
     "iopub.execute_input": "2024-12-19T15:05:33.025649Z",
     "iopub.status.busy": "2024-12-19T15:05:33.025210Z",
     "iopub.status.idle": "2024-12-19T15:05:33.444899Z",
     "shell.execute_reply": "2024-12-19T15:05:33.443423Z"
    },
    "papermill": {
     "duration": 0.432996,
     "end_time": "2024-12-19T15:05:33.447601",
     "exception": false,
     "start_time": "2024-12-19T15:05:33.014605",
     "status": "completed"
    },
    "tags": []
   },
   "outputs": [
    {
     "data": {
      "text/html": [
       "<style>#sk-container-id-1 {color: black;background-color: white;}#sk-container-id-1 pre{padding: 0;}#sk-container-id-1 div.sk-toggleable {background-color: white;}#sk-container-id-1 label.sk-toggleable__label {cursor: pointer;display: block;width: 100%;margin-bottom: 0;padding: 0.3em;box-sizing: border-box;text-align: center;}#sk-container-id-1 label.sk-toggleable__label-arrow:before {content: \"▸\";float: left;margin-right: 0.25em;color: #696969;}#sk-container-id-1 label.sk-toggleable__label-arrow:hover:before {color: black;}#sk-container-id-1 div.sk-estimator:hover label.sk-toggleable__label-arrow:before {color: black;}#sk-container-id-1 div.sk-toggleable__content {max-height: 0;max-width: 0;overflow: hidden;text-align: left;background-color: #f0f8ff;}#sk-container-id-1 div.sk-toggleable__content pre {margin: 0.2em;color: black;border-radius: 0.25em;background-color: #f0f8ff;}#sk-container-id-1 input.sk-toggleable__control:checked~div.sk-toggleable__content {max-height: 200px;max-width: 100%;overflow: auto;}#sk-container-id-1 input.sk-toggleable__control:checked~label.sk-toggleable__label-arrow:before {content: \"▾\";}#sk-container-id-1 div.sk-estimator input.sk-toggleable__control:checked~label.sk-toggleable__label {background-color: #d4ebff;}#sk-container-id-1 div.sk-label input.sk-toggleable__control:checked~label.sk-toggleable__label {background-color: #d4ebff;}#sk-container-id-1 input.sk-hidden--visually {border: 0;clip: rect(1px 1px 1px 1px);clip: rect(1px, 1px, 1px, 1px);height: 1px;margin: -1px;overflow: hidden;padding: 0;position: absolute;width: 1px;}#sk-container-id-1 div.sk-estimator {font-family: monospace;background-color: #f0f8ff;border: 1px dotted black;border-radius: 0.25em;box-sizing: border-box;margin-bottom: 0.5em;}#sk-container-id-1 div.sk-estimator:hover {background-color: #d4ebff;}#sk-container-id-1 div.sk-parallel-item::after {content: \"\";width: 100%;border-bottom: 1px solid gray;flex-grow: 1;}#sk-container-id-1 div.sk-label:hover label.sk-toggleable__label {background-color: #d4ebff;}#sk-container-id-1 div.sk-serial::before {content: \"\";position: absolute;border-left: 1px solid gray;box-sizing: border-box;top: 0;bottom: 0;left: 50%;z-index: 0;}#sk-container-id-1 div.sk-serial {display: flex;flex-direction: column;align-items: center;background-color: white;padding-right: 0.2em;padding-left: 0.2em;position: relative;}#sk-container-id-1 div.sk-item {position: relative;z-index: 1;}#sk-container-id-1 div.sk-parallel {display: flex;align-items: stretch;justify-content: center;background-color: white;position: relative;}#sk-container-id-1 div.sk-item::before, #sk-container-id-1 div.sk-parallel-item::before {content: \"\";position: absolute;border-left: 1px solid gray;box-sizing: border-box;top: 0;bottom: 0;left: 50%;z-index: -1;}#sk-container-id-1 div.sk-parallel-item {display: flex;flex-direction: column;z-index: 1;position: relative;background-color: white;}#sk-container-id-1 div.sk-parallel-item:first-child::after {align-self: flex-end;width: 50%;}#sk-container-id-1 div.sk-parallel-item:last-child::after {align-self: flex-start;width: 50%;}#sk-container-id-1 div.sk-parallel-item:only-child::after {width: 0;}#sk-container-id-1 div.sk-dashed-wrapped {border: 1px dashed gray;margin: 0 0.4em 0.5em 0.4em;box-sizing: border-box;padding-bottom: 0.4em;background-color: white;}#sk-container-id-1 div.sk-label label {font-family: monospace;font-weight: bold;display: inline-block;line-height: 1.2em;}#sk-container-id-1 div.sk-label-container {text-align: center;}#sk-container-id-1 div.sk-container {/* jupyter's `normalize.less` sets `[hidden] { display: none; }` but bootstrap.min.css set `[hidden] { display: none !important; }` so we also need the `!important` here to be able to override the default hidden behavior on the sphinx rendered scikit-learn.org. See: https://github.com/scikit-learn/scikit-learn/issues/21755 */display: inline-block !important;position: relative;}#sk-container-id-1 div.sk-text-repr-fallback {display: none;}</style><div id=\"sk-container-id-1\" class=\"sk-top-container\"><div class=\"sk-text-repr-fallback\"><pre>DecisionTreeClassifier()</pre><b>In a Jupyter environment, please rerun this cell to show the HTML representation or trust the notebook. <br />On GitHub, the HTML representation is unable to render, please try loading this page with nbviewer.org.</b></div><div class=\"sk-container\" hidden><div class=\"sk-item\"><div class=\"sk-estimator sk-toggleable\"><input class=\"sk-toggleable__control sk-hidden--visually\" id=\"sk-estimator-id-1\" type=\"checkbox\" checked><label for=\"sk-estimator-id-1\" class=\"sk-toggleable__label sk-toggleable__label-arrow\">DecisionTreeClassifier</label><div class=\"sk-toggleable__content\"><pre>DecisionTreeClassifier()</pre></div></div></div></div></div>"
      ],
      "text/plain": [
       "DecisionTreeClassifier()"
      ]
     },
     "execution_count": 14,
     "metadata": {},
     "output_type": "execute_result"
    }
   ],
   "source": [
    "from sklearn.tree import DecisionTreeClassifier\n",
    "from sklearn.metrics import accuracy_score, classification_report\n",
    "\n",
    "decision_tree = DecisionTreeClassifier()\n",
    "decision_tree.fit(x_train, y_train)"
   ]
  },
  {
   "cell_type": "code",
   "execution_count": 15,
   "id": "dd97cf9d",
   "metadata": {
    "execution": {
     "iopub.execute_input": "2024-12-19T15:05:33.468103Z",
     "iopub.status.busy": "2024-12-19T15:05:33.467622Z",
     "iopub.status.idle": "2024-12-19T15:05:33.488403Z",
     "shell.execute_reply": "2024-12-19T15:05:33.486612Z"
    },
    "papermill": {
     "duration": 0.033861,
     "end_time": "2024-12-19T15:05:33.490959",
     "exception": false,
     "start_time": "2024-12-19T15:05:33.457098",
     "status": "completed"
    },
    "tags": []
   },
   "outputs": [
    {
     "name": "stdout",
     "output_type": "stream",
     "text": [
      "Accuracy1:  0.842391304347826\n",
      "Classification Report :               precision    recall  f1-score   support\n",
      "\n",
      "           0       0.84      0.76      0.80        75\n",
      "           1       0.84      0.90      0.87       109\n",
      "\n",
      "    accuracy                           0.84       184\n",
      "   macro avg       0.84      0.83      0.83       184\n",
      "weighted avg       0.84      0.84      0.84       184\n",
      "\n"
     ]
    }
   ],
   "source": [
    "pred_1=decision_tree.predict(x_test)\n",
    "Accuracy1 = decision_tree.score(x_test, y_test)\n",
    "print(\"Accuracy1: \",Accuracy1)\n",
    "report=classification_report(y_test, pred_1)\n",
    "print(\"Classification Report :\",report)"
   ]
  },
  {
   "cell_type": "code",
   "execution_count": 16,
   "id": "69d24c53",
   "metadata": {
    "execution": {
     "iopub.execute_input": "2024-12-19T15:05:33.511312Z",
     "iopub.status.busy": "2024-12-19T15:05:33.510901Z",
     "iopub.status.idle": "2024-12-19T15:05:33.533154Z",
     "shell.execute_reply": "2024-12-19T15:05:33.531974Z"
    },
    "papermill": {
     "duration": 0.035491,
     "end_time": "2024-12-19T15:05:33.535859",
     "exception": false,
     "start_time": "2024-12-19T15:05:33.500368",
     "status": "completed"
    },
    "tags": []
   },
   "outputs": [
    {
     "name": "stdout",
     "output_type": "stream",
     "text": [
      "confusion metrix :\n",
      "[[57 18]\n",
      " [11 98]]\n",
      "accuracy :0.842391304347826\n",
      "F1_score :0.8711111111111111\n",
      "precision :0.8448275862068966\n",
      "racall :0.8990825688073395\n",
      "mean_absolute_error :0.15760869565217392\n",
      "mean_squared_error :0.15760869565217392\n"
     ]
    }
   ],
   "source": [
    "from sklearn.metrics import (confusion_matrix, f1_score,accuracy_score, recall_score,\n",
    "                            precision_score, mean_absolute_error, mean_squared_error)\n",
    "\n",
    "confusion_m= confusion_matrix(y_test, pred_1)\n",
    "print(f\"confusion metrix :\\n{confusion_m}\")\n",
    "accuracy=accuracy_score(y_test, pred_1)\n",
    "f1=f1_score(y_test, pred_1)\n",
    "precision=precision_score(y_test, pred_1)\n",
    "racall=recall_score(y_test, pred_1)\n",
    "meanae=mean_absolute_error(y_test, pred_1)\n",
    "meanse=mean_squared_error(y_test, pred_1)\n",
    "\n",
    "print(f\"accuracy :{accuracy}\")\n",
    "print(f\"F1_score :{f1}\")\n",
    "print(f\"precision :{precision}\")\n",
    "print(f\"racall :{racall}\")\n",
    "print(f\"mean_absolute_error :{meanae}\")\n",
    "print(f\"mean_squared_error :{meanse}\")"
   ]
  },
  {
   "cell_type": "code",
   "execution_count": 17,
   "id": "b3cbc15a",
   "metadata": {
    "execution": {
     "iopub.execute_input": "2024-12-19T15:05:33.556313Z",
     "iopub.status.busy": "2024-12-19T15:05:33.555941Z",
     "iopub.status.idle": "2024-12-19T15:05:34.438233Z",
     "shell.execute_reply": "2024-12-19T15:05:34.436888Z"
    },
    "papermill": {
     "duration": 0.895371,
     "end_time": "2024-12-19T15:05:34.440715",
     "exception": false,
     "start_time": "2024-12-19T15:05:33.545344",
     "status": "completed"
    },
    "tags": []
   },
   "outputs": [
    {
     "data": {
      "image/png": "[encoded data removed]",
      "text/plain": [
       "<Figure size 800x600 with 2 Axes>"
      ]
     },
     "metadata": {},
     "output_type": "display_data"
    }
   ],
   "source": [
    "import matplotlib.pyplot as plt\n",
    "import seaborn as sns\n",
    "\n",
    "# Replace `confusion_m` with your confusion matrix variable\n",
    "plt.figure(figsize=(8, 6))\n",
    "sns.heatmap(confusion_m, annot=True, fmt=\"d\", cmap=\"Blues\", cbar=True,\n",
    "            xticklabels=[\"No Heart Disease\", \"Heart Disease\"], \n",
    "            yticklabels=[\"No Heart Disease\", \"Heart Disease\"])\n",
    "\n",
    "plt.xlabel(\"Predicted Labels\")\n",
    "plt.ylabel(\"Actual Labels\")\n",
    "plt.title(\"Confusion Matrix for Heart Disease Prediction\")\n",
    "plt.show()\n"
   ]
  },
  {
   "cell_type": "code",
   "execution_count": 18,
   "id": "cc04bee4",
   "metadata": {
    "execution": {
     "iopub.execute_input": "2024-12-19T15:05:34.463041Z",
     "iopub.status.busy": "2024-12-19T15:05:34.462480Z",
     "iopub.status.idle": "2024-12-19T15:05:35.043146Z",
     "shell.execute_reply": "2024-12-19T15:05:35.041692Z"
    },
    "papermill": {
     "duration": 0.594472,
     "end_time": "2024-12-19T15:05:35.045660",
     "exception": false,
     "start_time": "2024-12-19T15:05:34.451188",
     "status": "completed"
    },
    "tags": []
   },
   "outputs": [
    {
     "name": "stdout",
     "output_type": "stream",
     "text": [
      "Accuracy2:  0.8532608695652174\n",
      "confusion metrix :\n",
      "[[65 10]\n",
      " [17 92]]\n",
      "Accuracy : 0.8532608695652174\n",
      "Classification Report :               precision    recall  f1-score   support\n",
      "\n",
      "           0       0.79      0.87      0.83        75\n",
      "           1       0.90      0.84      0.87       109\n",
      "\n",
      "    accuracy                           0.85       184\n",
      "   macro avg       0.85      0.86      0.85       184\n",
      "weighted avg       0.86      0.85      0.85       184\n",
      "\n"
     ]
    }
   ],
   "source": [
    "from sklearn.ensemble import RandomForestClassifier\n",
    "\n",
    "random_forest=RandomForestClassifier(n_estimators=200, random_state=42)\n",
    "random_forest.fit(x_train, y_train)\n",
    "pred_2=random_forest.predict(x_test)\n",
    "\n",
    "Accuracy2 = random_forest.score(x_test, y_test)\n",
    "print(\"Accuracy2: \",Accuracy2)\n",
    "accuracy=accuracy_score(y_test, pred_2)\n",
    "report=classification_report(y_test, pred_2)\n",
    "\n",
    "confusion_m= confusion_matrix(y_test, pred_2)\n",
    "print(f\"confusion metrix :\\n{confusion_m}\")\n",
    "\n",
    "print(\"Accuracy :\",accuracy)\n",
    "print(\"Classification Report :\",report)"
   ]
  },
  {
   "cell_type": "code",
   "execution_count": 19,
   "id": "25fb2d2b",
   "metadata": {
    "execution": {
     "iopub.execute_input": "2024-12-19T15:05:35.068382Z",
     "iopub.status.busy": "2024-12-19T15:05:35.067355Z",
     "iopub.status.idle": "2024-12-19T15:05:35.083561Z",
     "shell.execute_reply": "2024-12-19T15:05:35.082344Z"
    },
    "papermill": {
     "duration": 0.030096,
     "end_time": "2024-12-19T15:05:35.086058",
     "exception": false,
     "start_time": "2024-12-19T15:05:35.055962",
     "status": "completed"
    },
    "tags": []
   },
   "outputs": [
    {
     "name": "stdout",
     "output_type": "stream",
     "text": [
      "accuracy :0.8532608695652174\n",
      "F1_score :0.8720379146919431\n",
      "precision :0.9019607843137255\n",
      "racall :0.8440366972477065\n",
      "mean_absolute_error :0.14673913043478262\n",
      "mean_squared_error :0.14673913043478262\n"
     ]
    }
   ],
   "source": [
    "f1=f1_score(y_test, pred_2)\n",
    "precision=precision_score(y_test, pred_2)\n",
    "racall=recall_score(y_test, pred_2)\n",
    "meanae=mean_absolute_error(y_test, pred_2)\n",
    "meanse=mean_squared_error(y_test, pred_2)\n",
    "\n",
    "print(f\"accuracy :{accuracy}\")\n",
    "print(f\"F1_score :{f1}\")\n",
    "print(f\"precision :{precision}\")\n",
    "print(f\"racall :{racall}\")\n",
    "print(f\"mean_absolute_error :{meanae}\")\n",
    "print(f\"mean_squared_error :{meanse}\")"
   ]
  },
  {
   "cell_type": "code",
   "execution_count": 20,
   "id": "5866e21e",
   "metadata": {
    "execution": {
     "iopub.execute_input": "2024-12-19T15:05:35.109042Z",
     "iopub.status.busy": "2024-12-19T15:05:35.108638Z",
     "iopub.status.idle": "2024-12-19T15:05:35.404029Z",
     "shell.execute_reply": "2024-12-19T15:05:35.402883Z"
    },
    "papermill": {
     "duration": 0.3093,
     "end_time": "2024-12-19T15:05:35.406211",
     "exception": false,
     "start_time": "2024-12-19T15:05:35.096911",
     "status": "completed"
    },
    "tags": []
   },
   "outputs": [
    {
     "data": {
      "image/png": "[encoded data removed]",
      "text/plain": [
       "<Figure size 800x600 with 2 Axes>"
      ]
     },
     "metadata": {},
     "output_type": "display_data"
    }
   ],
   "source": [
    "import matplotlib.pyplot as plt\n",
    "import seaborn as sns\n",
    "\n",
    "# Replace `confusion_m` with your actual confusion matrix variable\n",
    "plt.figure(figsize=(8, 6))\n",
    "sns.heatmap(confusion_m, annot=True, fmt=\"d\", cmap=\"Reds\", cbar=True,\n",
    "            xticklabels=[\"No Heart Disease\", \"Heart Disease\"], \n",
    "            yticklabels=[\"No Heart Disease\", \"Heart Disease\"])\n",
    "\n",
    "plt.xlabel(\"Predicted Labels\", fontsize=12)\n",
    "plt.ylabel(\"Actual Labels\", fontsize=12)\n",
    "plt.title(\"Confusion Matrix for Heart Disease Prediction (Random Forest)\", fontsize=14)\n",
    "plt.xticks(fontsize=10)\n",
    "plt.yticks(fontsize=10)\n",
    "plt.show()\n"
   ]
  },
  {
   "cell_type": "code",
   "execution_count": 21,
   "id": "34f16c36",
   "metadata": {
    "execution": {
     "iopub.execute_input": "2024-12-19T15:05:35.430609Z",
     "iopub.status.busy": "2024-12-19T15:05:35.429340Z",
     "iopub.status.idle": "2024-12-19T15:05:35.484189Z",
     "shell.execute_reply": "2024-12-19T15:05:35.483008Z"
    },
    "papermill": {
     "duration": 0.069415,
     "end_time": "2024-12-19T15:05:35.486626",
     "exception": false,
     "start_time": "2024-12-19T15:05:35.417211",
     "status": "completed"
    },
    "tags": []
   },
   "outputs": [
    {
     "name": "stdout",
     "output_type": "stream",
     "text": [
      "confusion metrix :\n",
      "[[68  7]\n",
      " [21 88]]\n",
      "Accuracy : 0.8478260869565217\n",
      "Accuracy3 : 0.8478260869565217\n",
      "Classification Report :               precision    recall  f1-score   support\n",
      "\n",
      "           0       0.76      0.91      0.83        75\n",
      "           1       0.93      0.81      0.86       109\n",
      "\n",
      "    accuracy                           0.85       184\n",
      "   macro avg       0.85      0.86      0.85       184\n",
      "weighted avg       0.86      0.85      0.85       184\n",
      "\n"
     ]
    }
   ],
   "source": [
    "from sklearn.neighbors import KNeighborsClassifier\n",
    "\n",
    "Knn=KNeighborsClassifier(n_neighbors=12)\n",
    "Knn.fit(x_train, y_train)\n",
    "pred_3=Knn.predict(x_test)\n",
    "\n",
    "accuracy=accuracy_score(y_test, pred_3)\n",
    "Accuracy3 = Knn.score(x_test, y_test)\n",
    "report=classification_report(y_test, pred_3)\n",
    "confusion_m= confusion_matrix(y_test, pred_3)\n",
    "print(f\"confusion metrix :\\n{confusion_m}\")\n",
    "print(\"Accuracy :\",accuracy)\n",
    "print(\"Accuracy3 :\",Accuracy3)\n",
    "print(\"Classification Report :\",report)"
   ]
  },
  {
   "cell_type": "code",
   "execution_count": 22,
   "id": "b884e072",
   "metadata": {
    "execution": {
     "iopub.execute_input": "2024-12-19T15:05:35.510219Z",
     "iopub.status.busy": "2024-12-19T15:05:35.509840Z",
     "iopub.status.idle": "2024-12-19T15:05:35.526983Z",
     "shell.execute_reply": "2024-12-19T15:05:35.525630Z"
    },
    "papermill": {
     "duration": 0.031679,
     "end_time": "2024-12-19T15:05:35.529425",
     "exception": false,
     "start_time": "2024-12-19T15:05:35.497746",
     "status": "completed"
    },
    "tags": []
   },
   "outputs": [
    {
     "name": "stdout",
     "output_type": "stream",
     "text": [
      "accuracy :0.8478260869565217\n",
      "F1_score :0.8627450980392157\n",
      "precision :0.9263157894736842\n",
      "racall :0.8073394495412844\n",
      "mean_absolute_error :0.15217391304347827\n",
      "mean_squared_error :0.15217391304347827\n"
     ]
    }
   ],
   "source": [
    "f1=f1_score(y_test, pred_3)\n",
    "precision=precision_score(y_test, pred_3)\n",
    "racall=recall_score(y_test, pred_3)\n",
    "meanae=mean_absolute_error(y_test, pred_3)\n",
    "meanse=mean_squared_error(y_test, pred_3)\n",
    "\n",
    "print(f\"accuracy :{accuracy}\")\n",
    "print(f\"F1_score :{f1}\")\n",
    "print(f\"precision :{precision}\")\n",
    "print(f\"racall :{racall}\")\n",
    "print(f\"mean_absolute_error :{meanae}\")\n",
    "print(f\"mean_squared_error :{meanse}\")"
   ]
  },
  {
   "cell_type": "code",
   "execution_count": 23,
   "id": "0bb0c6a0",
   "metadata": {
    "execution": {
     "iopub.execute_input": "2024-12-19T15:05:35.554264Z",
     "iopub.status.busy": "2024-12-19T15:05:35.553863Z",
     "iopub.status.idle": "2024-12-19T15:05:35.808083Z",
     "shell.execute_reply": "2024-12-19T15:05:35.806606Z"
    },
    "papermill": {
     "duration": 0.270154,
     "end_time": "2024-12-19T15:05:35.810819",
     "exception": false,
     "start_time": "2024-12-19T15:05:35.540665",
     "status": "completed"
    },
    "tags": []
   },
   "outputs": [
    {
     "data": {
      "image/png": "[encoded data removed]",
      "text/plain": [
       "<Figure size 800x600 with 2 Axes>"
      ]
     },
     "metadata": {},
     "output_type": "display_data"
    }
   ],
   "source": [
    "import matplotlib.pyplot as plt\n",
    "import seaborn as sns\n",
    "\n",
    "# Replace `confusion_m` with your actual confusion matrix variable\n",
    "plt.figure(figsize=(8, 6))\n",
    "sns.heatmap(confusion_m, annot=True, fmt=\"d\", cmap=\"Greens\", cbar=True,\n",
    "            xticklabels=[\"No Heart Disease\", \"Heart Disease\"], \n",
    "            yticklabels=[\"No Heart Disease\", \"Heart Disease\"])\n",
    "\n",
    "plt.xlabel(\"Predicted Labels\", fontsize=12)\n",
    "plt.ylabel(\"Actual Labels\", fontsize=12)\n",
    "plt.title(\"Confusion Matrix for Heart Disease Prediction (KNN)\", fontsize=14)\n",
    "plt.xticks(fontsize=10)\n",
    "plt.yticks(fontsize=10)\n",
    "plt.show()\n"
   ]
  },
  {
   "cell_type": "code",
   "execution_count": 24,
   "id": "aa3c4fc8",
   "metadata": {
    "execution": {
     "iopub.execute_input": "2024-12-19T15:05:35.839649Z",
     "iopub.status.busy": "2024-12-19T15:05:35.838490Z",
     "iopub.status.idle": "2024-12-19T15:05:35.895367Z",
     "shell.execute_reply": "2024-12-19T15:05:35.893847Z"
    },
    "papermill": {
     "duration": 0.074179,
     "end_time": "2024-12-19T15:05:35.897884",
     "exception": false,
     "start_time": "2024-12-19T15:05:35.823705",
     "status": "completed"
    },
    "tags": []
   },
   "outputs": [
    {
     "name": "stdout",
     "output_type": "stream",
     "text": [
      "confusion metrix :\n",
      "[[63 12]\n",
      " [19 90]]\n",
      "Accuracy : 0.8315217391304348\n",
      "Accuracy4 : 0.8315217391304348\n",
      "Classification Report :               precision    recall  f1-score   support\n",
      "\n",
      "           0       0.77      0.84      0.80        75\n",
      "           1       0.88      0.83      0.85       109\n",
      "\n",
      "    accuracy                           0.83       184\n",
      "   macro avg       0.83      0.83      0.83       184\n",
      "weighted avg       0.84      0.83      0.83       184\n",
      "\n"
     ]
    }
   ],
   "source": [
    "from sklearn.linear_model import LinearRegression\n",
    "\n",
    "LR=KNeighborsClassifier(n_neighbors=5)\n",
    "LR.fit(x_train, y_train)\n",
    "y_pred_con=LR.predict(x_test)\n",
    "pred_4=[1 if pred >= 0.5 else 0 for pred in y_pred_con]\n",
    "accuracy=accuracy_score(y_test, pred_4)\n",
    "Accuracy4 = LR.score(x_test, y_test)\n",
    "report=classification_report(y_test, pred_4)\n",
    "confusion_m= confusion_matrix(y_test, pred_4)\n",
    "print(f\"confusion metrix :\\n{confusion_m}\")\n",
    "print(\"Accuracy :\",accuracy)\n",
    "print(\"Accuracy4 :\",Accuracy4)\n",
    "print(\"Classification Report :\",report)"
   ]
  },
  {
   "cell_type": "code",
   "execution_count": 25,
   "id": "64ba4698",
   "metadata": {
    "execution": {
     "iopub.execute_input": "2024-12-19T15:05:35.924380Z",
     "iopub.status.busy": "2024-12-19T15:05:35.923339Z",
     "iopub.status.idle": "2024-12-19T15:05:35.939355Z",
     "shell.execute_reply": "2024-12-19T15:05:35.938119Z"
    },
    "papermill": {
     "duration": 0.031838,
     "end_time": "2024-12-19T15:05:35.941820",
     "exception": false,
     "start_time": "2024-12-19T15:05:35.909982",
     "status": "completed"
    },
    "tags": []
   },
   "outputs": [
    {
     "name": "stdout",
     "output_type": "stream",
     "text": [
      "accuracy :0.8315217391304348\n",
      "F1_score :0.8530805687203792\n",
      "precision :0.8823529411764706\n",
      "racall :0.8256880733944955\n",
      "mean_absolute_error :0.16847826086956522\n",
      "mean_squared_error :0.16847826086956522\n"
     ]
    }
   ],
   "source": [
    "f1=f1_score(y_test, pred_4)\n",
    "precision=precision_score(y_test, pred_4)\n",
    "racall=recall_score(y_test, pred_4)\n",
    "meanae=mean_absolute_error(y_test, pred_4)\n",
    "meanse=mean_squared_error(y_test, pred_4)\n",
    "\n",
    "print(f\"accuracy :{accuracy}\")\n",
    "print(f\"F1_score :{f1}\")\n",
    "print(f\"precision :{precision}\")\n",
    "print(f\"racall :{racall}\")\n",
    "print(f\"mean_absolute_error :{meanae}\")\n",
    "print(f\"mean_squared_error :{meanse}\")"
   ]
  },
  {
   "cell_type": "code",
   "execution_count": 26,
   "id": "34d82b7f",
   "metadata": {
    "execution": {
     "iopub.execute_input": "2024-12-19T15:05:35.967439Z",
     "iopub.status.busy": "2024-12-19T15:05:35.967070Z",
     "iopub.status.idle": "2024-12-19T15:05:36.256067Z",
     "shell.execute_reply": "2024-12-19T15:05:36.254727Z"
    },
    "papermill": {
     "duration": 0.304635,
     "end_time": "2024-12-19T15:05:36.258540",
     "exception": false,
     "start_time": "2024-12-19T15:05:35.953905",
     "status": "completed"
    },
    "tags": []
   },
   "outputs": [
    {
     "data": {
      "image/png": "[encoded data removed]",
      "text/plain": [
       "<Figure size 800x600 with 2 Axes>"
      ]
     },
     "metadata": {},
     "output_type": "display_data"
    }
   ],
   "source": [
    "import matplotlib.pyplot as plt\n",
    "import seaborn as sns\n",
    "\n",
    "# Replace `confusion_m` with your actual confusion matrix variable\n",
    "plt.figure(figsize=(8, 6))\n",
    "sns.heatmap(confusion_m, annot=True, fmt=\"d\", cmap=\"Greens\", cbar=True,\n",
    "            xticklabels=[\"No Heart Disease\", \"Heart Disease\"], \n",
    "            yticklabels=[\"No Heart Disease\", \"Heart Disease\"])\n",
    "\n",
    "plt.xlabel(\"Predicted Labels\", fontsize=12)\n",
    "plt.ylabel(\"Actual Labels\", fontsize=12)\n",
    "plt.title(\"Confusion Matrix for Heart Disease Prediction -  LinearRegression\", fontsize=14)\n",
    "plt.xticks(fontsize=10)\n",
    "plt.yticks(fontsize=10)\n",
    "plt.show()\n"
   ]
  },
  {
   "cell_type": "code",
   "execution_count": 27,
   "id": "3d759149",
   "metadata": {
    "execution": {
     "iopub.execute_input": "2024-12-19T15:05:36.286465Z",
     "iopub.status.busy": "2024-12-19T15:05:36.285680Z",
     "iopub.status.idle": "2024-12-19T15:05:36.340074Z",
     "shell.execute_reply": "2024-12-19T15:05:36.338797Z"
    },
    "papermill": {
     "duration": 0.070916,
     "end_time": "2024-12-19T15:05:36.342697",
     "exception": false,
     "start_time": "2024-12-19T15:05:36.271781",
     "status": "completed"
    },
    "tags": []
   },
   "outputs": [
    {
     "name": "stdout",
     "output_type": "stream",
     "text": [
      "confusion metrix :\n",
      "[[63 12]\n",
      " [19 90]]\n",
      "Accuracy : 0.8315217391304348\n",
      "Accuracy5 : 0.8315217391304348\n",
      "Classification Report :               precision    recall  f1-score   support\n",
      "\n",
      "           0       0.77      0.84      0.80        75\n",
      "           1       0.88      0.83      0.85       109\n",
      "\n",
      "    accuracy                           0.83       184\n",
      "   macro avg       0.83      0.83      0.83       184\n",
      "weighted avg       0.84      0.83      0.83       184\n",
      "\n"
     ]
    }
   ],
   "source": [
    "from sklearn.linear_model import LogisticRegression\n",
    "\n",
    "Lgr=KNeighborsClassifier()\n",
    "Lgr.fit(x_train, y_train)\n",
    "pred_5=Lgr.predict(x_test)\n",
    "accuracy=accuracy_score(y_test, pred_5)\n",
    "Accuracy5 = Lgr.score(x_test, y_test)\n",
    "report=classification_report(y_test, pred_5)\n",
    "confusion_m= confusion_matrix(y_test, pred_5)\n",
    "print(f\"confusion metrix :\\n{confusion_m}\")\n",
    "print(\"Accuracy :\",accuracy)\n",
    "print(\"Accuracy5 :\",Accuracy5)\n",
    "print(\"Classification Report :\",report)"
   ]
  },
  {
   "cell_type": "code",
   "execution_count": 28,
   "id": "dd1153ed",
   "metadata": {
    "execution": {
     "iopub.execute_input": "2024-12-19T15:05:36.370111Z",
     "iopub.status.busy": "2024-12-19T15:05:36.369677Z",
     "iopub.status.idle": "2024-12-19T15:05:36.389247Z",
     "shell.execute_reply": "2024-12-19T15:05:36.387756Z"
    },
    "papermill": {
     "duration": 0.036177,
     "end_time": "2024-12-19T15:05:36.391863",
     "exception": false,
     "start_time": "2024-12-19T15:05:36.355686",
     "status": "completed"
    },
    "tags": []
   },
   "outputs": [
    {
     "name": "stdout",
     "output_type": "stream",
     "text": [
      "accuracy :0.8315217391304348\n",
      "F1_score :0.8530805687203792\n",
      "precision :0.8823529411764706\n",
      "racall :0.8256880733944955\n",
      "mean_absolute_error :0.16847826086956522\n",
      "mean_squared_error :0.16847826086956522\n"
     ]
    }
   ],
   "source": [
    "f1=f1_score(y_test, pred_5)\n",
    "precision=precision_score(y_test, pred_5)\n",
    "racall=recall_score(y_test, pred_5)\n",
    "meanae=mean_absolute_error(y_test, pred_5)\n",
    "meanse=mean_squared_error(y_test, pred_5)\n",
    "\n",
    "print(f\"accuracy :{accuracy}\")\n",
    "print(f\"F1_score :{f1}\")\n",
    "print(f\"precision :{precision}\")\n",
    "print(f\"racall :{racall}\")\n",
    "print(f\"mean_absolute_error :{meanae}\")\n",
    "print(f\"mean_squared_error :{meanse}\")"
   ]
  },
  {
   "cell_type": "code",
   "execution_count": 29,
   "id": "758dbf3a",
   "metadata": {
    "execution": {
     "iopub.execute_input": "2024-12-19T15:05:36.420012Z",
     "iopub.status.busy": "2024-12-19T15:05:36.419584Z",
     "iopub.status.idle": "2024-12-19T15:05:36.699257Z",
     "shell.execute_reply": "2024-12-19T15:05:36.698062Z"
    },
    "papermill": {
     "duration": 0.29654,
     "end_time": "2024-12-19T15:05:36.702022",
     "exception": false,
     "start_time": "2024-12-19T15:05:36.405482",
     "status": "completed"
    },
    "tags": []
   },
   "outputs": [
    {
     "data": {
      "image/png": "[encoded data removed]",
      "text/plain": [
       "<Figure size 800x600 with 2 Axes>"
      ]
     },
     "metadata": {},
     "output_type": "display_data"
    }
   ],
   "source": [
    "import matplotlib.pyplot as plt\n",
    "import seaborn as sns\n",
    "\n",
    "# Assuming `confusion_m` is your confusion matrix\n",
    "plt.figure(figsize=(8, 6))\n",
    "sns.heatmap(confusion_m, annot=True, fmt=\"d\", cmap=\"Greens\", cbar=True,\n",
    "            xticklabels=[\"No Heart Disease\", \"Heart Disease\"], \n",
    "            yticklabels=[\"No Heart Disease\", \"Heart Disease\"])\n",
    "\n",
    "plt.xlabel(\"Predicted Labels\", fontsize=12)\n",
    "plt.ylabel(\"Actual Labels\", fontsize=12)\n",
    "plt.title(\"Confusion Matrix for Heart Disease Prediction - LogisticRegression\", fontsize=14)\n",
    "plt.xticks(fontsize=10)\n",
    "plt.yticks(fontsize=10)\n",
    "plt.show()\n"
   ]
  },
  {
   "cell_type": "code",
   "execution_count": 30,
   "id": "14c1e13c",
   "metadata": {
    "execution": {
     "iopub.execute_input": "2024-12-19T15:05:36.731399Z",
     "iopub.status.busy": "2024-12-19T15:05:36.730987Z",
     "iopub.status.idle": "2024-12-19T15:05:37.075446Z",
     "shell.execute_reply": "2024-12-19T15:05:37.074248Z"
    },
    "papermill": {
     "duration": 0.361999,
     "end_time": "2024-12-19T15:05:37.077902",
     "exception": false,
     "start_time": "2024-12-19T15:05:36.715903",
     "status": "completed"
    },
    "tags": []
   },
   "outputs": [
    {
     "name": "stdout",
     "output_type": "stream",
     "text": [
      "Accuracy: 84.78%\n",
      "\n",
      "Classification Report:\n",
      "               precision    recall  f1-score   support\n",
      "\n",
      "           0       0.78      0.87      0.82        75\n",
      "           1       0.90      0.83      0.87       109\n",
      "\n",
      "    accuracy                           0.85       184\n",
      "   macro avg       0.84      0.85      0.84       184\n",
      "weighted avg       0.85      0.85      0.85       184\n",
      "\n"
     ]
    },
    {
     "data": {
      "image/png": "[encoded data removed]",
      "text/plain": [
       "<Figure size 800x600 with 1 Axes>"
      ]
     },
     "metadata": {},
     "output_type": "display_data"
    }
   ],
   "source": [
    "from sklearn.ensemble import GradientBoostingClassifier\n",
    "from sklearn.metrics import accuracy_score, classification_report, confusion_matrix\n",
    "import seaborn as sns\n",
    "import matplotlib.pyplot as plt\n",
    "\n",
    "# Initialize Gradient Boosting Classifier\n",
    "gbc = GradientBoostingClassifier(\n",
    "    n_estimators=100,       # Number of boosting stages\n",
    "    learning_rate=0.1,      # Learning rate\n",
    "    max_depth=3,            # Maximum depth of trees\n",
    "    random_state=42\n",
    ")\n",
    "\n",
    "# Train the model\n",
    "gbc.fit(x_train, y_train)\n",
    "\n",
    "# Make predictions\n",
    "y_pred = gbc.predict(x_test)\n",
    "\n",
    "# Evaluate the model\n",
    "accuracy = accuracy_score(y_test, y_pred)\n",
    "confusion_m = confusion_matrix(y_test, y_pred)\n",
    "\n",
    "print(f\"Accuracy: {accuracy * 100:.2f}%\")\n",
    "print(\"\\nClassification Report:\\n\", classification_report(y_test, y_pred))\n",
    "\n",
    "# Plot confusion matrix\n",
    "plt.figure(figsize=(8, 6))\n",
    "sns.heatmap(confusion_m, annot=True, fmt=\"d\", cmap=\"Oranges\", cbar=False,\n",
    "            xticklabels=[\"No Disease\", \"Disease\"], yticklabels=[\"No Disease\", \"Disease\"])\n",
    "plt.xlabel(\"Predicted Labels\")\n",
    "plt.ylabel(\"Actual Labels\")\n",
    "plt.title(\"Confusion Matrix for Gradient Boosting\")\n",
    "plt.show()"
   ]
  },
  {
   "cell_type": "code",
   "execution_count": 31,
   "id": "8e1cbd74",
   "metadata": {
    "execution": {
     "iopub.execute_input": "2024-12-19T15:05:37.110789Z",
     "iopub.status.busy": "2024-12-19T15:05:37.109713Z",
     "iopub.status.idle": "2024-12-19T15:05:37.566487Z",
     "shell.execute_reply": "2024-12-19T15:05:37.565425Z"
    },
    "papermill": {
     "duration": 0.476246,
     "end_time": "2024-12-19T15:05:37.568781",
     "exception": false,
     "start_time": "2024-12-19T15:05:37.092535",
     "status": "completed"
    },
    "tags": []
   },
   "outputs": [
    {
     "name": "stdout",
     "output_type": "stream",
     "text": [
      "Accuracy: 79.89%\n",
      "\n",
      "Classification Report:\n",
      "               precision    recall  f1-score   support\n",
      "\n",
      "           0       0.75      0.76      0.75        75\n",
      "           1       0.83      0.83      0.83       109\n",
      "\n",
      "    accuracy                           0.80       184\n",
      "   macro avg       0.79      0.79      0.79       184\n",
      "weighted avg       0.80      0.80      0.80       184\n",
      "\n"
     ]
    },
    {
     "data": {
      "image/png": "[encoded data removed]",
      "text/plain": [
       "<Figure size 800x600 with 1 Axes>"
      ]
     },
     "metadata": {},
     "output_type": "display_data"
    }
   ],
   "source": [
    "from sklearn.ensemble import AdaBoostClassifier\n",
    "from sklearn.tree import DecisionTreeClassifier\n",
    "from sklearn.model_selection import train_test_split\n",
    "from sklearn.metrics import accuracy_score, classification_report, confusion_matrix\n",
    "import seaborn as sns\n",
    "import matplotlib.pyplot as plt\n",
    "\n",
    "\n",
    "# Initialize AdaBoost Classifier with a Decision Tree as the base estimator\n",
    "adaboost = AdaBoostClassifier(\n",
    "    estimator=DecisionTreeClassifier(max_depth=1), # Weak learner\n",
    "    n_estimators=100,       # Number of estimators\n",
    "    learning_rate=1.0,      # Learning rate\n",
    "    random_state=42\n",
    ")\n",
    "\n",
    "# Train the model\n",
    "adaboost.fit(x_train, y_train)\n",
    "\n",
    "# Make predictions\n",
    "y_pred = adaboost.predict(x_test)\n",
    "\n",
    "# Evaluate the model\n",
    "accuracy = accuracy_score(y_test, y_pred)\n",
    "confusion_m = confusion_matrix(y_test, y_pred)\n",
    "\n",
    "print(f\"Accuracy: {accuracy * 100:.2f}%\")\n",
    "print(\"\\nClassification Report:\\n\", classification_report(y_test, y_pred))\n",
    "\n",
    "# Plot confusion matrix\n",
    "plt.figure(figsize=(8, 6))\n",
    "sns.heatmap(confusion_m, annot=True, fmt=\"d\", cmap=\"Blues\", cbar=False,\n",
    "            xticklabels=[\"No Disease\", \"Disease\"], yticklabels=[\"No Disease\", \"Disease\"])\n",
    "plt.xlabel(\"Predicted Labels\")\n",
    "plt.ylabel(\"Actual Labels\")\n",
    "plt.title(\"Confusion Matrix for AdaBoost\")\n",
    "plt.show()\n"
   ]
  },
  {
   "cell_type": "code",
   "execution_count": 32,
   "id": "d0d177d4",
   "metadata": {
    "execution": {
     "iopub.execute_input": "2024-12-19T15:05:37.600163Z",
     "iopub.status.busy": "2024-12-19T15:05:37.599357Z",
     "iopub.status.idle": "2024-12-19T15:05:37.756910Z",
     "shell.execute_reply": "2024-12-19T15:05:37.755919Z"
    },
    "papermill": {
     "duration": 0.176424,
     "end_time": "2024-12-19T15:05:37.759903",
     "exception": false,
     "start_time": "2024-12-19T15:05:37.583479",
     "status": "completed"
    },
    "tags": []
   },
   "outputs": [
    {
     "name": "stdout",
     "output_type": "stream",
     "text": [
      "Accuracy: 83.70%\n",
      "\n",
      "Classification Report:\n",
      "               precision    recall  f1-score   support\n",
      "\n",
      "           0       0.76      0.87      0.81        75\n",
      "           1       0.90      0.82      0.86       109\n",
      "\n",
      "    accuracy                           0.84       184\n",
      "   macro avg       0.83      0.84      0.83       184\n",
      "weighted avg       0.84      0.84      0.84       184\n",
      "\n"
     ]
    },
    {
     "data": {
      "image/png": "[encoded data removed]",
      "text/plain": [
       "<Figure size 800x600 with 1 Axes>"
      ]
     },
     "metadata": {},
     "output_type": "display_data"
    }
   ],
   "source": [
    "from sklearn.svm import SVC\n",
    "from sklearn.model_selection import train_test_split\n",
    "from sklearn.metrics import accuracy_score, classification_report, confusion_matrix\n",
    "import seaborn as sns\n",
    "import matplotlib.pyplot as plt\n",
    "\n",
    "\n",
    "# Initialize and train SVM model\n",
    "svm_model = SVC(kernel='rbf', C=1.0, gamma='scale', random_state=42)\n",
    "svm_model.fit(x_train, y_train)\n",
    "\n",
    "# Make predictions\n",
    "pred_6 = svm_model.predict(x_test)\n",
    "\n",
    "# Evaluate the model\n",
    "accuracy6 = accuracy_score(y_test, pred_6)\n",
    "confusion_m = confusion_matrix(y_test, pred_6)\n",
    "\n",
    "print(f\"Accuracy: {accuracy6 * 100:.2f}%\")\n",
    "print(\"\\nClassification Report:\\n\", classification_report(y_test, pred_6))\n",
    "\n",
    "# Plot confusion matrix\n",
    "plt.figure(figsize=(8, 6))\n",
    "sns.heatmap(confusion_m, annot=True, fmt=\"d\", cmap=\"Purples\", cbar=False,\n",
    "            xticklabels=[\"No Disease\", \"Disease\"], yticklabels=[\"No Disease\", \"Disease\"])\n",
    "plt.xlabel(\"Predicted Labels\")\n",
    "plt.ylabel(\"Actual Labels\")\n",
    "plt.title(\"Confusion Matrix for SVM\")\n",
    "\n",
    "# meanae=mean_absolute_error(y_test, pred_6)\n",
    "# meanse=mean_squared_error(y_test, pred_6)\n",
    "plt.show()\n"
   ]
  },
  {
   "cell_type": "code",
   "execution_count": 33,
   "id": "f9cbac60",
   "metadata": {
    "execution": {
     "iopub.execute_input": "2024-12-19T15:05:37.809066Z",
     "iopub.status.busy": "2024-12-19T15:05:37.808118Z",
     "iopub.status.idle": "2024-12-19T15:05:37.828779Z",
     "shell.execute_reply": "2024-12-19T15:05:37.827704Z"
    },
    "papermill": {
     "duration": 0.048992,
     "end_time": "2024-12-19T15:05:37.831536",
     "exception": false,
     "start_time": "2024-12-19T15:05:37.782544",
     "status": "completed"
    },
    "tags": []
   },
   "outputs": [
    {
     "name": "stdout",
     "output_type": "stream",
     "text": [
      "accuracy :0.8369565217391305\n",
      "F1_score :0.8557692307692307\n",
      "precision :0.898989898989899\n",
      "racall :0.8165137614678899\n",
      "mean_absolute_error :0.16304347826086957\n",
      "mean_squared_error :0.16304347826086957\n"
     ]
    }
   ],
   "source": [
    "f1=f1_score(y_test, pred_6)\n",
    "precision=precision_score(y_test, pred_6)\n",
    "racall=recall_score(y_test, pred_6)\n",
    "meanae=mean_absolute_error(y_test, pred_6)\n",
    "meanse=mean_squared_error(y_test, pred_6)\n",
    "\n",
    "print(f\"accuracy :{accuracy6}\")\n",
    "print(f\"F1_score :{f1}\")\n",
    "print(f\"precision :{precision}\")\n",
    "print(f\"racall :{racall}\")\n",
    "print(f\"mean_absolute_error :{meanae}\")\n",
    "print(f\"mean_squared_error :{meanse}\")"
   ]
  },
  {
   "cell_type": "code",
   "execution_count": 34,
   "id": "8b984253",
   "metadata": {
    "execution": {
     "iopub.execute_input": "2024-12-19T15:05:37.863912Z",
     "iopub.status.busy": "2024-12-19T15:05:37.863445Z",
     "iopub.status.idle": "2024-12-19T15:05:37.870207Z",
     "shell.execute_reply": "2024-12-19T15:05:37.868836Z"
    },
    "papermill": {
     "duration": 0.025603,
     "end_time": "2024-12-19T15:05:37.872522",
     "exception": false,
     "start_time": "2024-12-19T15:05:37.846919",
     "status": "completed"
    },
    "tags": []
   },
   "outputs": [
    {
     "name": "stdout",
     "output_type": "stream",
     "text": [
      "Avg Accuracy: 0.8402173913043478\n"
     ]
    }
   ],
   "source": [
    "avg_accuracy = (accuracy6 + Accuracy2 + Accuracy3 + Accuracy4 + Accuracy5) / 5.0\n",
    "\n",
    "print(\"Avg Accuracy:\",avg_accuracy)\n",
    "\n",
    "pred_final = (pred_6 + pred_2 + pred_3 + pred_4 + pred_5) / 5.0"
   ]
  },
  {
   "cell_type": "code",
   "execution_count": 35,
   "id": "f968713b",
   "metadata": {
    "execution": {
     "iopub.execute_input": "2024-12-19T15:05:37.905426Z",
     "iopub.status.busy": "2024-12-19T15:05:37.904988Z",
     "iopub.status.idle": "2024-12-19T15:05:38.532134Z",
     "shell.execute_reply": "2024-12-19T15:05:38.530603Z"
    },
    "papermill": {
     "duration": 0.646251,
     "end_time": "2024-12-19T15:05:38.534463",
     "exception": false,
     "start_time": "2024-12-19T15:05:37.888212",
     "status": "completed"
    },
    "tags": []
   },
   "outputs": [
    {
     "name": "stdout",
     "output_type": "stream",
     "text": [
      "final accuricy: 0.8586956521739131\n"
     ]
    }
   ],
   "source": [
    "# Making the final model using Voting Classifier\n",
    "from sklearn.ensemble import VotingClassifier\n",
    "from sklearn.metrics import log_loss\n",
    "\n",
    "# Creating the Voting Classifier with hard voting\n",
    "final_model = VotingClassifier(estimators=[('svm', svm_model), ('rf', random_forest), ('knn', Knn), ('lr', LR), ('lgr', Lgr)], voting='hard')\n",
    "\n",
    "# ----------------------------\n",
    "\n",
    "# Training the final model on the train dataset\n",
    "final_model.fit(x_train, y_train)\n",
    "\n",
    "# ----------------------------\n",
    "\n",
    "# Predicting the output on the test dataset\n",
    "pred_final = final_model.predict(x_test)\n",
    "\n",
    "finalAccuracy = final_model.score(x_test, y_test)\n",
    "\n",
    "print(\"final accuricy:\",finalAccuracy)"
   ]
  },
  {
   "cell_type": "code",
   "execution_count": 36,
   "id": "40a2bee5",
   "metadata": {
    "execution": {
     "iopub.execute_input": "2024-12-19T15:05:38.567762Z",
     "iopub.status.busy": "2024-12-19T15:05:38.567326Z",
     "iopub.status.idle": "2024-12-19T15:05:38.585486Z",
     "shell.execute_reply": "2024-12-19T15:05:38.584048Z"
    },
    "papermill": {
     "duration": 0.038281,
     "end_time": "2024-12-19T15:05:38.588166",
     "exception": false,
     "start_time": "2024-12-19T15:05:38.549885",
     "status": "completed"
    },
    "tags": []
   },
   "outputs": [
    {
     "name": "stdout",
     "output_type": "stream",
     "text": [
      "accuracy :0.8586956521739131\n",
      "F1_score :0.8750000000000001\n",
      "precision :0.9191919191919192\n",
      "racall :0.8348623853211009\n",
      "mean_absolute_error :0.14130434782608695\n",
      "mean_squared_error :0.14130434782608695\n"
     ]
    }
   ],
   "source": [
    "f1=f1_score(y_test, pred_final)\n",
    "precision=precision_score(y_test, pred_final)\n",
    "racall=recall_score(y_test, pred_final)\n",
    "meanae=mean_absolute_error(y_test, pred_final)\n",
    "meanse=mean_squared_error(y_test, pred_final)\n",
    "confusion_m= confusion_matrix(y_test, pred_final)\n",
    "\n",
    "print(f\"accuracy :{finalAccuracy}\")\n",
    "print(f\"F1_score :{f1}\")\n",
    "print(f\"precision :{precision}\")\n",
    "print(f\"racall :{racall}\")\n",
    "print(f\"mean_absolute_error :{meanae}\")\n",
    "print(f\"mean_squared_error :{meanse}\")"
   ]
  },
  {
   "cell_type": "code",
   "execution_count": 37,
   "id": "289ea9a2",
   "metadata": {
    "execution": {
     "iopub.execute_input": "2024-12-19T15:05:38.621616Z",
     "iopub.status.busy": "2024-12-19T15:05:38.621138Z",
     "iopub.status.idle": "2024-12-19T15:05:38.779948Z",
     "shell.execute_reply": "2024-12-19T15:05:38.778613Z"
    },
    "papermill": {
     "duration": 0.179524,
     "end_time": "2024-12-19T15:05:38.783087",
     "exception": false,
     "start_time": "2024-12-19T15:05:38.603563",
     "status": "completed"
    },
    "tags": []
   },
   "outputs": [
    {
     "data": {
      "image/png": "[encoded data removed]",
      "text/plain": [
       "<Figure size 800x600 with 1 Axes>"
      ]
     },
     "metadata": {},
     "output_type": "display_data"
    }
   ],
   "source": [
    "plt.figure(figsize=(8, 6))\n",
    "sns.heatmap(confusion_m, annot=True, fmt=\"d\", cmap=\"Oranges\", cbar=False,\n",
    "            xticklabels=[\"No Disease\", \"Disease\"], yticklabels=[\"No Disease\", \"Disease\"])\n",
    "plt.xlabel(\"Predicted Labels\")\n",
    "plt.ylabel(\"Actual Labels\")\n",
    "plt.title(\"Confusion Matrix for Final Ensemble Model\")\n",
    "plt.show()"
   ]
  }
 ],
 "metadata": {
  "kaggle": {
   "accelerator": "none",
   "dataSources": [
    {
     "datasetId": 888463,
     "sourceId": 1508992,
     "sourceType": "datasetVersion"
    }
   ],
   "dockerImageVersionId": 30786,
   "isGpuEnabled": false,
   "isInternetEnabled": true,
   "language": "python",
   "sourceType": "notebook"
  },
  "kernelspec": {
   "display_name": "Python 3",
   "language": "python",
   "name": "python3"
  },
  "language_info": {
   "codemirror_mode": {
    "name": "ipython",
    "version": 3
   },
   "file_extension": ".py",
   "mimetype": "text/x-python",
   "name": "python",
   "nbconvert_exporter": "python",
   "pygments_lexer": "ipython3",
   "version": "3.10.14"
  },
  "papermill": {
   "default_parameters": {},
   "duration": 13.814652,
   "end_time": "2024-12-19T15:05:39.430943",
   "environment_variables": {},
   "exception": null,
   "input_path": "__notebook__.ipynb",
   "output_path": "__notebook__.ipynb",
   "parameters": {},
   "start_time": "2024-12-19T15:05:25.616291",
   "version": "2.6.0"
  }
 },
 "nbformat": 4,
 "nbformat_minor": 5
}
